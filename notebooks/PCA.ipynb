{
 "cells": [
  {
   "cell_type": "code",
   "execution_count": 8,
   "metadata": {
    "collapsed": false
   },
   "outputs": [
    {
     "name": "stdout",
     "output_type": "stream",
     "text": [
      ":: problems summary ::\n",
      ":::: WARNINGS\n",
      "\tUnable to reparse com.github.alexarchambault.jupyter#jupyter-scala-api_2.10.5;0.2.0-SNAPSHOT from sonatype-snapshots, using Sun Oct 25 15:00:40 EDT 2015\n",
      "\n",
      "\tChoosing sonatype-snapshots for com.github.alexarchambault.jupyter#jupyter-scala-api_2.10.5;0.2.0-SNAPSHOT\n",
      "\n",
      "\tUnable to reparse com.github.alexarchambault#ammonite-api_2.10.5;0.3.1-SNAPSHOT from sonatype-snapshots, using Wed Oct 21 05:44:30 EDT 2015\n",
      "\n",
      "\tChoosing sonatype-snapshots for com.github.alexarchambault#ammonite-api_2.10.5;0.3.1-SNAPSHOT\n",
      "\n",
      "\tUnable to reparse com.github.alexarchambault.jupyter#jupyter-api_2.10;0.2.0-SNAPSHOT from sonatype-snapshots, using Wed Oct 21 11:05:05 EDT 2015\n",
      "\n",
      "\tChoosing sonatype-snapshots for com.github.alexarchambault.jupyter#jupyter-api_2.10;0.2.0-SNAPSHOT\n",
      "\n",
      ":: problems summary ::\n",
      ":::: WARNINGS\n",
      "\tUnable to reparse com.github.alexarchambault.jupyter#jupyter-scala-api_2.10.5;0.2.0-SNAPSHOT from sonatype-snapshots, using Sun Oct 25 15:00:40 EDT 2015\n",
      "\n",
      "\tChoosing sonatype-snapshots for com.github.alexarchambault.jupyter#jupyter-scala-api_2.10.5;0.2.0-SNAPSHOT\n",
      "\n",
      "\tUnable to reparse com.github.alexarchambault#ammonite-api_2.10.5;0.3.1-SNAPSHOT from sonatype-snapshots, using Wed Oct 21 05:44:30 EDT 2015\n",
      "\n",
      "\tChoosing sonatype-snapshots for com.github.alexarchambault#ammonite-api_2.10.5;0.3.1-SNAPSHOT\n",
      "\n",
      "\tUnable to reparse com.github.alexarchambault.jupyter#jupyter-api_2.10;0.2.0-SNAPSHOT from sonatype-snapshots, using Wed Oct 21 11:05:05 EDT 2015\n",
      "\n",
      "\tChoosing sonatype-snapshots for com.github.alexarchambault.jupyter#jupyter-api_2.10;0.2.0-SNAPSHOT\n",
      "\n"
     ]
    },
    {
     "data": {
      "text/plain": []
     },
     "metadata": {},
     "output_type": "display_data"
    }
   ],
   "source": [
    "load.ivy(\"org.scalanlp\" %% \"breeze\" % \"0.8.1\")\n",
    "load.ivy(\"org.scalanlp\" %% \"breeze-natives\" % \"0.10\")"
   ]
  },
  {
   "cell_type": "code",
   "execution_count": 9,
   "metadata": {
    "collapsed": false
   },
   "outputs": [
    {
     "data": {
      "text/plain": [
       "\u001b[32mimport \u001b[36mbreeze.linalg._\u001b[0m\n",
       "\u001b[32mimport \u001b[36mbreeze.math._\u001b[0m\n",
       "\u001b[32mimport \u001b[36mbreeze.numerics._\u001b[0m\n",
       "\u001b[32mimport \u001b[36mbreeze.stats._\u001b[0m"
      ]
     },
     "metadata": {},
     "output_type": "display_data"
    }
   ],
   "source": [
    "import breeze.linalg._\n",
    "import breeze.math._\n",
    "import breeze.numerics._\n",
    "import breeze.stats._"
   ]
  },
  {
   "cell_type": "code",
   "execution_count": 10,
   "metadata": {
    "collapsed": false
   },
   "outputs": [
    {
     "data": {
      "text/plain": [
       "defined \u001b[32mfunction \u001b[36madjustColumnMean\u001b[0m"
      ]
     },
     "metadata": {},
     "output_type": "display_data"
    }
   ],
   "source": [
    "def adjustColumnMean(x: DenseMatrix[Double]): DenseMatrix[Double] = {\n",
    "  val cols = x(::,*) // convert to column broadcast form\n",
    "  val colMeans = mean(x(::,*))\n",
    "  x(*,::) - colMeans.toDenseVector // switch to row broadcast form before sub\n",
    "}"
   ]
  },
  {
   "cell_type": "code",
   "execution_count": 11,
   "metadata": {
    "collapsed": false
   },
   "outputs": [
    {
     "data": {
      "text/plain": [
       "defined \u001b[32mfunction \u001b[36mcovariance\u001b[0m"
      ]
     },
     "metadata": {},
     "output_type": "display_data"
    }
   ],
   "source": [
    "def covariance(x: DenseVector[Double], y: DenseVector[Double]): Double = {\n",
    "  val varX = x.map { i => i - mean(x)  } \n",
    "  val varY = y.map { j => j - mean(y)  }\n",
    "  sum(varX :* varY) / (x.length - 1.0) // element-wise multiplication\n",
    "}"
   ]
  },
  {
   "cell_type": "code",
   "execution_count": 12,
   "metadata": {
    "collapsed": false
   },
   "outputs": [
    {
     "data": {
      "text/plain": [
       "defined \u001b[32mfunction \u001b[36mpairwiseColumnCovariance\u001b[0m"
      ]
     },
     "metadata": {},
     "output_type": "display_data"
    }
   ],
   "source": [
    "def pairwiseColumnCovariance(x: DenseMatrix[Double]): DenseMatrix[Double] = {\n",
    "  val cols = x(::,*) // convert to column broadcast form\n",
    "  cols.map { c1 =>\n",
    "    val colPairs = cols.map { c2 => (c1,c2) }\n",
    "    val covs = colPairs.map { case (c1,c2) => covariance(c1,c2) }.toDenseVector\n",
    "    covs\n",
    "  }\n",
    "}"
   ]
  },
  {
   "cell_type": "code",
   "execution_count": 18,
   "metadata": {
    "collapsed": false
   },
   "outputs": [
    {
     "data": {
      "text/plain": [
       "\u001b[36mx\u001b[0m: breeze.linalg.DenseMatrix[Double] = 1.0  0.0  \n",
       "0.0  1.0  \n",
       "\u001b[36mrda\u001b[0m: breeze.linalg.DenseMatrix[Double] = 0.5   -0.5  \n",
       "-0.5  0.5   \n",
       "\u001b[36mer\u001b[0m: (breeze.linalg.DenseVector[Double], breeze.linalg.DenseVector[Double], breeze.linalg.DenseMatrix[Double]) = \u001b[33m\u001b[0m(\n",
       "  DenseVector(1.0, 1.1102230246251565E-16),\n",
       "  DenseVector(0.0, 0.0),\n",
       "  0.7071067811865476   0.7071067811865474  \n",
       "-0.7071067811865474  0.7071067811865476  \n",
       ")\n",
       "\u001b[36m`_`\u001b[0m: (breeze.linalg.DenseVector[Double], breeze.linalg.DenseVector[Double], breeze.linalg.DenseMatrix[Double]) = \u001b[33m\u001b[0m(\n",
       "  DenseVector(1.0, 1.1102230246251565E-16),\n",
       "  DenseVector(0.0, 0.0),\n",
       "  0.7071067811865476   0.7071067811865474  \n",
       "-0.7071067811865474  0.7071067811865476  \n",
       ")\n",
       "\u001b[36mev\u001b[0m: (breeze.linalg.DenseVector[Double], breeze.linalg.DenseVector[Double], breeze.linalg.DenseMatrix[Double]) = \u001b[33m\u001b[0m(\n",
       "  DenseVector(1.0, 1.1102230246251565E-16),\n",
       "  DenseVector(0.0, 0.0),\n",
       "  0.7071067811865476   0.7071067811865474  \n",
       "-0.7071067811865474  0.7071067811865476  \n",
       ")\n",
       "\u001b[36mrfv\u001b[0m: breeze.linalg.DenseMatrix[Double] = 0.7071067811865476  -0.7071067811865474  \n",
       "0.7071067811865474  0.7071067811865476   \n",
       "\u001b[36mffv\u001b[0m: breeze.linalg.DenseMatrix[Double] = 0.7071067811865475       -0.7071067811865475     \n",
       "-1.1102230246251565E-16  1.1102230246251565E-16  \n",
       "\u001b[36mres14_5\u001b[0m: breeze.linalg.DenseMatrix[Double] = 0.49999999999999994  -0.49999999999999994  \n",
       "-0.4999999999999999  0.4999999999999999    "
      ]
     },
     "metadata": {},
     "output_type": "display_data"
    }
   ],
   "source": [
    "val x = DenseMatrix((1.0,0.0),(0.0,1.0))\n",
    "val rda = adjustColumnMean(x)\n",
    "val er, _, ev = eig(pairwiseColumnCovariance(rda))\n",
    " val rfv = ev._3.toDenseMatrix.t\n",
    "\n",
    "// it works!\n",
    "val ffv = rfv * rda\n",
    "rfv.t * ffv // add back mean"
   ]
  }
 ],
 "metadata": {
  "kernelspec": {
   "display_name": "Scala 2.10",
   "language": "scala210",
   "name": "scala210"
  },
  "language_info": {
   "codemirror_mode": "text/x-scala",
   "file_extension": "scala",
   "mimetype": "text/x-scala",
   "name": "scala210",
   "pygments_lexer": "scala",
   "version": "2.10.5"
  }
 },
 "nbformat": 4,
 "nbformat_minor": 0
}
